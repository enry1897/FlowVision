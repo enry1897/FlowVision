{
 "cells": [
  {
   "cell_type": "markdown",
   "id": "7540cab8",
   "metadata": {},
   "source": [
    "# Jupyter Notebook per debug"
   ]
  },
  {
   "cell_type": "markdown",
   "id": "bf41ae6a",
   "metadata": {},
   "source": [
    "## Install libraries"
   ]
  },
  {
   "cell_type": "code",
   "execution_count": 10,
   "id": "438fd984",
   "metadata": {},
   "outputs": [
    {
     "name": "stdout",
     "output_type": "stream",
     "text": [
      "Requirement already satisfied: opencv-python in /Users/filippo/miniconda3/envs/CPC/lib/python3.8/site-packages (from -r requirements.txt (line 1)) (4.11.0.86)\n",
      "Requirement already satisfied: mediapipe in /Users/filippo/miniconda3/envs/CPC/lib/python3.8/site-packages (from -r requirements.txt (line 2)) (0.10.11)\n",
      "Requirement already satisfied: numpy in /Users/filippo/miniconda3/envs/CPC/lib/python3.8/site-packages (from -r requirements.txt (line 3)) (1.24.3)\n",
      "Requirement already satisfied: tensorflow in /Users/filippo/miniconda3/envs/CPC/lib/python3.8/site-packages (from -r requirements.txt (line 4)) (2.13.0)\n",
      "Requirement already satisfied: torch in /Users/filippo/miniconda3/envs/CPC/lib/python3.8/site-packages (from -r requirements.txt (line 5)) (2.1.2)\n",
      "Requirement already satisfied: python-osc in /Users/filippo/miniconda3/envs/CPC/lib/python3.8/site-packages (from -r requirements.txt (line 6)) (1.8.3)\n",
      "Requirement already satisfied: absl-py in /Users/filippo/miniconda3/envs/CPC/lib/python3.8/site-packages (from mediapipe->-r requirements.txt (line 2)) (2.1.0)\n",
      "Requirement already satisfied: attrs>=19.1.0 in /Users/filippo/miniconda3/envs/CPC/lib/python3.8/site-packages (from mediapipe->-r requirements.txt (line 2)) (24.2.0)\n",
      "Requirement already satisfied: flatbuffers>=2.0 in /Users/filippo/miniconda3/envs/CPC/lib/python3.8/site-packages (from mediapipe->-r requirements.txt (line 2)) (25.2.10)\n",
      "Requirement already satisfied: jax in /Users/filippo/miniconda3/envs/CPC/lib/python3.8/site-packages (from mediapipe->-r requirements.txt (line 2)) (0.4.13)\n",
      "Requirement already satisfied: jaxlib in /Users/filippo/miniconda3/envs/CPC/lib/python3.8/site-packages (from mediapipe->-r requirements.txt (line 2)) (0.4.13)\n",
      "Requirement already satisfied: matplotlib in /Users/filippo/miniconda3/envs/CPC/lib/python3.8/site-packages (from mediapipe->-r requirements.txt (line 2)) (3.7.5)\n",
      "Requirement already satisfied: opencv-contrib-python in /Users/filippo/miniconda3/envs/CPC/lib/python3.8/site-packages (from mediapipe->-r requirements.txt (line 2)) (4.11.0.86)\n",
      "Requirement already satisfied: protobuf<4,>=3.11 in /Users/filippo/miniconda3/envs/CPC/lib/python3.8/site-packages (from mediapipe->-r requirements.txt (line 2)) (3.20.3)\n",
      "Requirement already satisfied: sounddevice>=0.4.4 in /Users/filippo/miniconda3/envs/CPC/lib/python3.8/site-packages (from mediapipe->-r requirements.txt (line 2)) (0.5.1)\n",
      "Requirement already satisfied: tensorflow-macos==2.13.0 in /Users/filippo/miniconda3/envs/CPC/lib/python3.8/site-packages (from tensorflow->-r requirements.txt (line 4)) (2.13.0)\n",
      "Requirement already satisfied: astunparse>=1.6.0 in /Users/filippo/miniconda3/envs/CPC/lib/python3.8/site-packages (from tensorflow-macos==2.13.0->tensorflow->-r requirements.txt (line 4)) (1.6.3)\n",
      "Requirement already satisfied: gast<=0.4.0,>=0.2.1 in /Users/filippo/miniconda3/envs/CPC/lib/python3.8/site-packages (from tensorflow-macos==2.13.0->tensorflow->-r requirements.txt (line 4)) (0.4.0)\n",
      "Requirement already satisfied: google-pasta>=0.1.1 in /Users/filippo/miniconda3/envs/CPC/lib/python3.8/site-packages (from tensorflow-macos==2.13.0->tensorflow->-r requirements.txt (line 4)) (0.2.0)\n",
      "Requirement already satisfied: h5py>=2.9.0 in /Users/filippo/miniconda3/envs/CPC/lib/python3.8/site-packages (from tensorflow-macos==2.13.0->tensorflow->-r requirements.txt (line 4)) (3.11.0)\n",
      "Requirement already satisfied: libclang>=13.0.0 in /Users/filippo/miniconda3/envs/CPC/lib/python3.8/site-packages (from tensorflow-macos==2.13.0->tensorflow->-r requirements.txt (line 4)) (18.1.1)\n",
      "Requirement already satisfied: opt-einsum>=2.3.2 in /Users/filippo/miniconda3/envs/CPC/lib/python3.8/site-packages (from tensorflow-macos==2.13.0->tensorflow->-r requirements.txt (line 4)) (3.4.0)\n",
      "Requirement already satisfied: packaging in /Users/filippo/miniconda3/envs/CPC/lib/python3.8/site-packages (from tensorflow-macos==2.13.0->tensorflow->-r requirements.txt (line 4)) (24.1)\n",
      "Requirement already satisfied: setuptools in /Users/filippo/miniconda3/envs/CPC/lib/python3.8/site-packages (from tensorflow-macos==2.13.0->tensorflow->-r requirements.txt (line 4)) (72.1.0)\n",
      "Requirement already satisfied: six>=1.12.0 in /Users/filippo/miniconda3/envs/CPC/lib/python3.8/site-packages (from tensorflow-macos==2.13.0->tensorflow->-r requirements.txt (line 4)) (1.16.0)\n",
      "Requirement already satisfied: termcolor>=1.1.0 in /Users/filippo/miniconda3/envs/CPC/lib/python3.8/site-packages (from tensorflow-macos==2.13.0->tensorflow->-r requirements.txt (line 4)) (2.4.0)\n",
      "Requirement already satisfied: typing-extensions<4.6.0,>=3.6.6 in /Users/filippo/miniconda3/envs/CPC/lib/python3.8/site-packages (from tensorflow-macos==2.13.0->tensorflow->-r requirements.txt (line 4)) (4.5.0)\n",
      "Requirement already satisfied: wrapt>=1.11.0 in /Users/filippo/miniconda3/envs/CPC/lib/python3.8/site-packages (from tensorflow-macos==2.13.0->tensorflow->-r requirements.txt (line 4)) (1.14.1)\n",
      "Requirement already satisfied: grpcio<2.0,>=1.24.3 in /Users/filippo/miniconda3/envs/CPC/lib/python3.8/site-packages (from tensorflow-macos==2.13.0->tensorflow->-r requirements.txt (line 4)) (1.70.0)\n",
      "Requirement already satisfied: tensorboard<2.14,>=2.13 in /Users/filippo/miniconda3/envs/CPC/lib/python3.8/site-packages (from tensorflow-macos==2.13.0->tensorflow->-r requirements.txt (line 4)) (2.13.0)\n",
      "Requirement already satisfied: tensorflow-estimator<2.14,>=2.13.0 in /Users/filippo/miniconda3/envs/CPC/lib/python3.8/site-packages (from tensorflow-macos==2.13.0->tensorflow->-r requirements.txt (line 4)) (2.13.0)\n",
      "Requirement already satisfied: keras<2.14,>=2.13.1 in /Users/filippo/miniconda3/envs/CPC/lib/python3.8/site-packages (from tensorflow-macos==2.13.0->tensorflow->-r requirements.txt (line 4)) (2.13.1)\n",
      "Requirement already satisfied: filelock in /Users/filippo/miniconda3/envs/CPC/lib/python3.8/site-packages (from torch->-r requirements.txt (line 5)) (3.16.1)\n",
      "Requirement already satisfied: sympy in /Users/filippo/miniconda3/envs/CPC/lib/python3.8/site-packages (from torch->-r requirements.txt (line 5)) (1.13.3)\n",
      "Requirement already satisfied: networkx in /Users/filippo/miniconda3/envs/CPC/lib/python3.8/site-packages (from torch->-r requirements.txt (line 5)) (3.1)\n",
      "Requirement already satisfied: jinja2 in /Users/filippo/miniconda3/envs/CPC/lib/python3.8/site-packages (from torch->-r requirements.txt (line 5)) (3.1.4)\n",
      "Requirement already satisfied: fsspec in /Users/filippo/miniconda3/envs/CPC/lib/python3.8/site-packages (from torch->-r requirements.txt (line 5)) (2025.3.0)\n",
      "Requirement already satisfied: CFFI>=1.0 in /Users/filippo/miniconda3/envs/CPC/lib/python3.8/site-packages (from sounddevice>=0.4.4->mediapipe->-r requirements.txt (line 2)) (1.17.0)\n",
      "Requirement already satisfied: ml-dtypes>=0.1.0 in /Users/filippo/miniconda3/envs/CPC/lib/python3.8/site-packages (from jax->mediapipe->-r requirements.txt (line 2)) (0.2.0)\n",
      "Requirement already satisfied: scipy>=1.7 in /Users/filippo/miniconda3/envs/CPC/lib/python3.8/site-packages (from jax->mediapipe->-r requirements.txt (line 2)) (1.10.1)\n",
      "Requirement already satisfied: importlib-metadata>=4.6 in /Users/filippo/miniconda3/envs/CPC/lib/python3.8/site-packages (from jax->mediapipe->-r requirements.txt (line 2)) (8.5.0)\n",
      "Requirement already satisfied: MarkupSafe>=2.0 in /Users/filippo/miniconda3/envs/CPC/lib/python3.8/site-packages (from jinja2->torch->-r requirements.txt (line 5)) (2.1.5)\n",
      "Requirement already satisfied: contourpy>=1.0.1 in /Users/filippo/miniconda3/envs/CPC/lib/python3.8/site-packages (from matplotlib->mediapipe->-r requirements.txt (line 2)) (1.1.1)\n",
      "Requirement already satisfied: cycler>=0.10 in /Users/filippo/miniconda3/envs/CPC/lib/python3.8/site-packages (from matplotlib->mediapipe->-r requirements.txt (line 2)) (0.12.1)\n",
      "Requirement already satisfied: fonttools>=4.22.0 in /Users/filippo/miniconda3/envs/CPC/lib/python3.8/site-packages (from matplotlib->mediapipe->-r requirements.txt (line 2)) (4.56.0)\n",
      "Requirement already satisfied: kiwisolver>=1.0.1 in /Users/filippo/miniconda3/envs/CPC/lib/python3.8/site-packages (from matplotlib->mediapipe->-r requirements.txt (line 2)) (1.4.7)\n",
      "Requirement already satisfied: pillow>=6.2.0 in /Users/filippo/miniconda3/envs/CPC/lib/python3.8/site-packages (from matplotlib->mediapipe->-r requirements.txt (line 2)) (10.4.0)\n",
      "Requirement already satisfied: pyparsing>=2.3.1 in /Users/filippo/miniconda3/envs/CPC/lib/python3.8/site-packages (from matplotlib->mediapipe->-r requirements.txt (line 2)) (3.1.4)\n",
      "Requirement already satisfied: python-dateutil>=2.7 in /Users/filippo/miniconda3/envs/CPC/lib/python3.8/site-packages (from matplotlib->mediapipe->-r requirements.txt (line 2)) (2.9.0)\n",
      "Requirement already satisfied: importlib-resources>=3.2.0 in /Users/filippo/miniconda3/envs/CPC/lib/python3.8/site-packages (from matplotlib->mediapipe->-r requirements.txt (line 2)) (6.4.5)\n",
      "Requirement already satisfied: mpmath<1.4,>=1.1.0 in /Users/filippo/miniconda3/envs/CPC/lib/python3.8/site-packages (from sympy->torch->-r requirements.txt (line 5)) (1.3.0)\n",
      "Requirement already satisfied: wheel<1.0,>=0.23.0 in /Users/filippo/miniconda3/envs/CPC/lib/python3.8/site-packages (from astunparse>=1.6.0->tensorflow-macos==2.13.0->tensorflow->-r requirements.txt (line 4)) (0.44.0)\n",
      "Requirement already satisfied: pycparser in /Users/filippo/miniconda3/envs/CPC/lib/python3.8/site-packages (from CFFI>=1.0->sounddevice>=0.4.4->mediapipe->-r requirements.txt (line 2)) (2.22)\n",
      "Requirement already satisfied: zipp>=3.20 in /Users/filippo/miniconda3/envs/CPC/lib/python3.8/site-packages (from importlib-metadata>=4.6->jax->mediapipe->-r requirements.txt (line 2)) (3.20.2)\n",
      "Requirement already satisfied: google-auth<3,>=1.6.3 in /Users/filippo/miniconda3/envs/CPC/lib/python3.8/site-packages (from tensorboard<2.14,>=2.13->tensorflow-macos==2.13.0->tensorflow->-r requirements.txt (line 4)) (2.38.0)\n",
      "Requirement already satisfied: google-auth-oauthlib<1.1,>=0.5 in /Users/filippo/miniconda3/envs/CPC/lib/python3.8/site-packages (from tensorboard<2.14,>=2.13->tensorflow-macos==2.13.0->tensorflow->-r requirements.txt (line 4)) (1.0.0)\n",
      "Requirement already satisfied: markdown>=2.6.8 in /Users/filippo/miniconda3/envs/CPC/lib/python3.8/site-packages (from tensorboard<2.14,>=2.13->tensorflow-macos==2.13.0->tensorflow->-r requirements.txt (line 4)) (3.7)\n",
      "Requirement already satisfied: requests<3,>=2.21.0 in /Users/filippo/miniconda3/envs/CPC/lib/python3.8/site-packages (from tensorboard<2.14,>=2.13->tensorflow-macos==2.13.0->tensorflow->-r requirements.txt (line 4)) (2.32.3)\n",
      "Requirement already satisfied: tensorboard-data-server<0.8.0,>=0.7.0 in /Users/filippo/miniconda3/envs/CPC/lib/python3.8/site-packages (from tensorboard<2.14,>=2.13->tensorflow-macos==2.13.0->tensorflow->-r requirements.txt (line 4)) (0.7.2)\n",
      "Requirement already satisfied: werkzeug>=1.0.1 in /Users/filippo/miniconda3/envs/CPC/lib/python3.8/site-packages (from tensorboard<2.14,>=2.13->tensorflow-macos==2.13.0->tensorflow->-r requirements.txt (line 4)) (3.0.6)\n",
      "Requirement already satisfied: cachetools<6.0,>=2.0.0 in /Users/filippo/miniconda3/envs/CPC/lib/python3.8/site-packages (from google-auth<3,>=1.6.3->tensorboard<2.14,>=2.13->tensorflow-macos==2.13.0->tensorflow->-r requirements.txt (line 4)) (5.5.2)\n",
      "Requirement already satisfied: pyasn1-modules>=0.2.1 in /Users/filippo/miniconda3/envs/CPC/lib/python3.8/site-packages (from google-auth<3,>=1.6.3->tensorboard<2.14,>=2.13->tensorflow-macos==2.13.0->tensorflow->-r requirements.txt (line 4)) (0.4.1)\n",
      "Requirement already satisfied: rsa<5,>=3.1.4 in /Users/filippo/miniconda3/envs/CPC/lib/python3.8/site-packages (from google-auth<3,>=1.6.3->tensorboard<2.14,>=2.13->tensorflow-macos==2.13.0->tensorflow->-r requirements.txt (line 4)) (4.9)\n",
      "Requirement already satisfied: requests-oauthlib>=0.7.0 in /Users/filippo/miniconda3/envs/CPC/lib/python3.8/site-packages (from google-auth-oauthlib<1.1,>=0.5->tensorboard<2.14,>=2.13->tensorflow-macos==2.13.0->tensorflow->-r requirements.txt (line 4)) (2.0.0)\n",
      "Requirement already satisfied: charset-normalizer<4,>=2 in /Users/filippo/miniconda3/envs/CPC/lib/python3.8/site-packages (from requests<3,>=2.21.0->tensorboard<2.14,>=2.13->tensorflow-macos==2.13.0->tensorflow->-r requirements.txt (line 4)) (3.3.2)\n",
      "Requirement already satisfied: idna<4,>=2.5 in /Users/filippo/miniconda3/envs/CPC/lib/python3.8/site-packages (from requests<3,>=2.21.0->tensorboard<2.14,>=2.13->tensorflow-macos==2.13.0->tensorflow->-r requirements.txt (line 4)) (3.7)\n",
      "Requirement already satisfied: urllib3<3,>=1.21.1 in /Users/filippo/miniconda3/envs/CPC/lib/python3.8/site-packages (from requests<3,>=2.21.0->tensorboard<2.14,>=2.13->tensorflow-macos==2.13.0->tensorflow->-r requirements.txt (line 4)) (2.2.2)\n",
      "Requirement already satisfied: certifi>=2017.4.17 in /Users/filippo/miniconda3/envs/CPC/lib/python3.8/site-packages (from requests<3,>=2.21.0->tensorboard<2.14,>=2.13->tensorflow-macos==2.13.0->tensorflow->-r requirements.txt (line 4)) (2024.8.30)\n",
      "Requirement already satisfied: pyasn1<0.7.0,>=0.4.6 in /Users/filippo/miniconda3/envs/CPC/lib/python3.8/site-packages (from pyasn1-modules>=0.2.1->google-auth<3,>=1.6.3->tensorboard<2.14,>=2.13->tensorflow-macos==2.13.0->tensorflow->-r requirements.txt (line 4)) (0.6.1)\n",
      "Requirement already satisfied: oauthlib>=3.0.0 in /Users/filippo/miniconda3/envs/CPC/lib/python3.8/site-packages (from requests-oauthlib>=0.7.0->google-auth-oauthlib<1.1,>=0.5->tensorboard<2.14,>=2.13->tensorflow-macos==2.13.0->tensorflow->-r requirements.txt (line 4)) (3.2.2)\n",
      "Note: you may need to restart the kernel to use updated packages.\n"
     ]
    }
   ],
   "source": [
    "%pip install -r requirements.txt"
   ]
  },
  {
   "cell_type": "markdown",
   "id": "e2206f7d",
   "metadata": {},
   "source": [
    "## Libraries"
   ]
  },
  {
   "cell_type": "code",
   "execution_count": 12,
   "id": "3f08d229",
   "metadata": {},
   "outputs": [],
   "source": [
    "import cv2\n",
    "import mediapipe as mp\n",
    "#import pyrealsense2 as rs\n",
    "import numpy as np\n",
    "import time\n",
    "import tensorflow as tf\n",
    "from pythonosc.udp_client import SimpleUDPClient"
   ]
  },
  {
   "cell_type": "markdown",
   "id": "b6eeab0b",
   "metadata": {},
   "source": [
    "## Initalisations\n",
    "\n",
    "### MediaPipe and Computer Camera"
   ]
  },
  {
   "cell_type": "code",
   "execution_count": 13,
   "id": "1cac2321",
   "metadata": {},
   "outputs": [
    {
     "ename": "RuntimeError",
     "evalue": "ValidatedGraphConfig Initialization failed.\nImageToTensorCalculator: ; RET_CHECK failure (mediapipe/calculators/tensor/image_to_tensor_calculator.cc:144) ValidateOptionOutputDims(options) returned INTERNAL: ; RET_CHECK failure (./mediapipe/calculators/tensor/image_to_tensor_utils.h:136) options.has_output_tensor_float_range() || options.has_output_tensor_int_range() || options.has_output_tensor_uint_range()Output tensor range is required. \nInferenceCalculatorCpu: ; RET_CHECK failure (mediapipe/calculators/tensor/inference_calculator_cpu.cc:63) !options.model_path().empty() ^ kSideInModel(cc).IsConnected()Either model as side packet or model path in options is required.\nSplitDetectionVectorCalculator: The number of output streams should match the number of ranges specified in the CalculatorOptions.\nImageToTensorCalculator: ; RET_CHECK failure (mediapipe/calculators/tensor/image_to_tensor_calculator.cc:144) ValidateOptionOutputDims(options) returned INTERNAL: ; RET_CHECK failure (./mediapipe/calculators/tensor/image_to_tensor_utils.h:136) options.has_output_tensor_float_range() || options.has_output_tensor_int_range() || options.has_output_tensor_uint_range()Output tensor range is required. \nConstantSidePacketCalculator: ; RET_CHECK failure (mediapipe/calculators/core/constant_side_packet_calculator.cc:64) (cc->OutputSidePackets().NumEntries(kPacketTag))==(options.packet_size())Number of output side packets has to be same as number of packets configured in options.\nConstantSidePacketCalculator: ; RET_CHECK failure (mediapipe/calculators/core/constant_side_packet_calculator.cc:64) (cc->OutputSidePackets().NumEntries(kPacketTag))==(options.packet_size())Number of output side packets has to be same as number of packets configured in options.\nConstantSidePacketCalculator: ; RET_CHECK failure (mediapipe/calculators/core/constant_side_packet_calculator.cc:64) (cc->OutputSidePackets().NumEntries(kPacketTag))==(options.packet_size())Number of output side packets has to be same as number of packets configured in options.\nSplitTensorVectorCalculator: The number of output streams should match the number of ranges specified in the CalculatorOptions.\nSplitNormalizedLandmarkListCalculator: The number of output streams should match the number of ranges specified in the CalculatorOptions.\nSplitLandmarkListCalculator: The number of output streams should match the number of ranges specified in the CalculatorOptions.",
     "output_type": "error",
     "traceback": [
      "\u001b[0;31m---------------------------------------------------------------------------\u001b[0m",
      "\u001b[0;31mRuntimeError\u001b[0m                              Traceback (most recent call last)",
      "Cell \u001b[0;32mIn[13], line 3\u001b[0m\n\u001b[1;32m      1\u001b[0m \u001b[38;5;66;03m# Initialize MediaPipe, per farla funzionare serve protobuf==3.20.3 e \u001b[39;00m\n\u001b[1;32m      2\u001b[0m mp_pose \u001b[38;5;241m=\u001b[39m mp\u001b[38;5;241m.\u001b[39msolutions\u001b[38;5;241m.\u001b[39mpose\n\u001b[0;32m----> 3\u001b[0m pose \u001b[38;5;241m=\u001b[39m \u001b[43mmp_pose\u001b[49m\u001b[38;5;241;43m.\u001b[39;49m\u001b[43mPose\u001b[49m\u001b[43m(\u001b[49m\n\u001b[1;32m      4\u001b[0m \u001b[43m    \u001b[49m\u001b[43mstatic_image_mode\u001b[49m\u001b[38;5;241;43m=\u001b[39;49m\u001b[38;5;28;43;01mFalse\u001b[39;49;00m\u001b[43m,\u001b[49m\n\u001b[1;32m      5\u001b[0m \u001b[43m    \u001b[49m\u001b[43mmodel_complexity\u001b[49m\u001b[38;5;241;43m=\u001b[39;49m\u001b[38;5;241;43m2\u001b[39;49m\u001b[43m,\u001b[49m\n\u001b[1;32m      6\u001b[0m \u001b[43m    \u001b[49m\u001b[43menable_segmentation\u001b[49m\u001b[38;5;241;43m=\u001b[39;49m\u001b[38;5;28;43;01mFalse\u001b[39;49;00m\u001b[43m,\u001b[49m\n\u001b[1;32m      7\u001b[0m \u001b[43m    \u001b[49m\u001b[43mmin_detection_confidence\u001b[49m\u001b[38;5;241;43m=\u001b[39;49m\u001b[38;5;241;43m0.5\u001b[39;49m\u001b[43m,\u001b[49m\n\u001b[1;32m      8\u001b[0m \u001b[43m    \u001b[49m\u001b[43mmin_tracking_confidence\u001b[49m\u001b[38;5;241;43m=\u001b[39;49m\u001b[38;5;241;43m0.5\u001b[39;49m\n\u001b[1;32m      9\u001b[0m \u001b[43m)\u001b[49m\n\u001b[1;32m     11\u001b[0m \u001b[38;5;66;03m# Initialize computer camera\u001b[39;00m\n\u001b[1;32m     12\u001b[0m cap \u001b[38;5;241m=\u001b[39m cv2\u001b[38;5;241m.\u001b[39mVideoCapture(\u001b[38;5;241m0\u001b[39m)   \u001b[38;5;66;03m# 0 è per la webcam integrata, 1 per una webcam esterna\u001b[39;00m\n",
      "File \u001b[0;32m~/miniconda3/envs/CPC/lib/python3.8/site-packages/mediapipe/python/solutions/pose.py:146\u001b[0m, in \u001b[0;36mPose.__init__\u001b[0;34m(self, static_image_mode, model_complexity, smooth_landmarks, enable_segmentation, smooth_segmentation, min_detection_confidence, min_tracking_confidence)\u001b[0m\n\u001b[1;32m    122\u001b[0m \u001b[38;5;250m\u001b[39m\u001b[38;5;124;03m\"\"\"Initializes a MediaPipe Pose object.\u001b[39;00m\n\u001b[1;32m    123\u001b[0m \n\u001b[1;32m    124\u001b[0m \u001b[38;5;124;03mArgs:\u001b[39;00m\n\u001b[0;32m   (...)\u001b[0m\n\u001b[1;32m    143\u001b[0m \u001b[38;5;124;03m    https://solutions.mediapipe.dev/pose#min_tracking_confidence.\u001b[39;00m\n\u001b[1;32m    144\u001b[0m \u001b[38;5;124;03m\"\"\"\u001b[39;00m\n\u001b[1;32m    145\u001b[0m _download_oss_pose_landmark_model(model_complexity)\n\u001b[0;32m--> 146\u001b[0m \u001b[38;5;28;43msuper\u001b[39;49m\u001b[43m(\u001b[49m\u001b[43m)\u001b[49m\u001b[38;5;241;43m.\u001b[39;49m\u001b[38;5;21;43m__init__\u001b[39;49m\u001b[43m(\u001b[49m\n\u001b[1;32m    147\u001b[0m \u001b[43m    \u001b[49m\u001b[43mbinary_graph_path\u001b[49m\u001b[38;5;241;43m=\u001b[39;49m\u001b[43m_BINARYPB_FILE_PATH\u001b[49m\u001b[43m,\u001b[49m\n\u001b[1;32m    148\u001b[0m \u001b[43m    \u001b[49m\u001b[43mside_inputs\u001b[49m\u001b[38;5;241;43m=\u001b[39;49m\u001b[43m{\u001b[49m\n\u001b[1;32m    149\u001b[0m \u001b[43m        \u001b[49m\u001b[38;5;124;43m'\u001b[39;49m\u001b[38;5;124;43mmodel_complexity\u001b[39;49m\u001b[38;5;124;43m'\u001b[39;49m\u001b[43m:\u001b[49m\u001b[43m \u001b[49m\u001b[43mmodel_complexity\u001b[49m\u001b[43m,\u001b[49m\n\u001b[1;32m    150\u001b[0m \u001b[43m        \u001b[49m\u001b[38;5;124;43m'\u001b[39;49m\u001b[38;5;124;43msmooth_landmarks\u001b[39;49m\u001b[38;5;124;43m'\u001b[39;49m\u001b[43m:\u001b[49m\u001b[43m \u001b[49m\u001b[43msmooth_landmarks\u001b[49m\u001b[43m \u001b[49m\u001b[38;5;129;43;01mand\u001b[39;49;00m\u001b[43m \u001b[49m\u001b[38;5;129;43;01mnot\u001b[39;49;00m\u001b[43m \u001b[49m\u001b[43mstatic_image_mode\u001b[49m\u001b[43m,\u001b[49m\n\u001b[1;32m    151\u001b[0m \u001b[43m        \u001b[49m\u001b[38;5;124;43m'\u001b[39;49m\u001b[38;5;124;43menable_segmentation\u001b[39;49m\u001b[38;5;124;43m'\u001b[39;49m\u001b[43m:\u001b[49m\u001b[43m \u001b[49m\u001b[43menable_segmentation\u001b[49m\u001b[43m,\u001b[49m\n\u001b[1;32m    152\u001b[0m \u001b[43m        \u001b[49m\u001b[38;5;124;43m'\u001b[39;49m\u001b[38;5;124;43msmooth_segmentation\u001b[39;49m\u001b[38;5;124;43m'\u001b[39;49m\u001b[43m:\u001b[49m\n\u001b[1;32m    153\u001b[0m \u001b[43m            \u001b[49m\u001b[43msmooth_segmentation\u001b[49m\u001b[43m \u001b[49m\u001b[38;5;129;43;01mand\u001b[39;49;00m\u001b[43m \u001b[49m\u001b[38;5;129;43;01mnot\u001b[39;49;00m\u001b[43m \u001b[49m\u001b[43mstatic_image_mode\u001b[49m\u001b[43m,\u001b[49m\n\u001b[1;32m    154\u001b[0m \u001b[43m        \u001b[49m\u001b[38;5;124;43m'\u001b[39;49m\u001b[38;5;124;43muse_prev_landmarks\u001b[39;49m\u001b[38;5;124;43m'\u001b[39;49m\u001b[43m:\u001b[49m\u001b[43m \u001b[49m\u001b[38;5;129;43;01mnot\u001b[39;49;00m\u001b[43m \u001b[49m\u001b[43mstatic_image_mode\u001b[49m\u001b[43m,\u001b[49m\n\u001b[1;32m    155\u001b[0m \u001b[43m    \u001b[49m\u001b[43m}\u001b[49m\u001b[43m,\u001b[49m\n\u001b[1;32m    156\u001b[0m \u001b[43m    \u001b[49m\u001b[43mcalculator_params\u001b[49m\u001b[38;5;241;43m=\u001b[39;49m\u001b[43m{\u001b[49m\n\u001b[1;32m    157\u001b[0m \u001b[43m        \u001b[49m\u001b[38;5;124;43m'\u001b[39;49m\u001b[38;5;124;43mposedetectioncpu__TensorsToDetectionsCalculator.min_score_thresh\u001b[39;49m\u001b[38;5;124;43m'\u001b[39;49m\u001b[43m:\u001b[49m\n\u001b[1;32m    158\u001b[0m \u001b[43m            \u001b[49m\u001b[43mmin_detection_confidence\u001b[49m\u001b[43m,\u001b[49m\n\u001b[1;32m    159\u001b[0m \u001b[43m        \u001b[49m\u001b[38;5;124;43m'\u001b[39;49m\u001b[38;5;124;43mposelandmarkbyroicpu__tensorstoposelandmarksandsegmentation__ThresholdingCalculator.threshold\u001b[39;49m\u001b[38;5;124;43m'\u001b[39;49m\u001b[43m:\u001b[49m\n\u001b[1;32m    160\u001b[0m \u001b[43m            \u001b[49m\u001b[43mmin_tracking_confidence\u001b[49m\u001b[43m,\u001b[49m\n\u001b[1;32m    161\u001b[0m \u001b[43m    \u001b[49m\u001b[43m}\u001b[49m\u001b[43m,\u001b[49m\n\u001b[1;32m    162\u001b[0m \u001b[43m    \u001b[49m\u001b[43moutputs\u001b[49m\u001b[38;5;241;43m=\u001b[39;49m\u001b[43m[\u001b[49m\u001b[38;5;124;43m'\u001b[39;49m\u001b[38;5;124;43mpose_landmarks\u001b[39;49m\u001b[38;5;124;43m'\u001b[39;49m\u001b[43m,\u001b[49m\u001b[43m \u001b[49m\u001b[38;5;124;43m'\u001b[39;49m\u001b[38;5;124;43mpose_world_landmarks\u001b[39;49m\u001b[38;5;124;43m'\u001b[39;49m\u001b[43m,\u001b[49m\u001b[43m \u001b[49m\u001b[38;5;124;43m'\u001b[39;49m\u001b[38;5;124;43msegmentation_mask\u001b[39;49m\u001b[38;5;124;43m'\u001b[39;49m\u001b[43m]\u001b[49m\u001b[43m)\u001b[49m\n",
      "File \u001b[0;32m~/miniconda3/envs/CPC/lib/python3.8/site-packages/mediapipe/python/solution_base.py:248\u001b[0m, in \u001b[0;36mSolutionBase.__init__\u001b[0;34m(self, binary_graph_path, graph_config, calculator_params, graph_options, side_inputs, outputs, stream_type_hints)\u001b[0m\n\u001b[1;32m    244\u001b[0m \u001b[38;5;28;01mif\u001b[39;00m graph_options:\n\u001b[1;32m    245\u001b[0m   \u001b[38;5;28mself\u001b[39m\u001b[38;5;241m.\u001b[39m_set_extension(canonical_graph_config_proto\u001b[38;5;241m.\u001b[39mgraph_options,\n\u001b[1;32m    246\u001b[0m                       graph_options)\n\u001b[0;32m--> 248\u001b[0m \u001b[38;5;28mself\u001b[39m\u001b[38;5;241m.\u001b[39m_graph \u001b[38;5;241m=\u001b[39m \u001b[43mcalculator_graph\u001b[49m\u001b[38;5;241;43m.\u001b[39;49m\u001b[43mCalculatorGraph\u001b[49m\u001b[43m(\u001b[49m\n\u001b[1;32m    249\u001b[0m \u001b[43m    \u001b[49m\u001b[43mgraph_config\u001b[49m\u001b[38;5;241;43m=\u001b[39;49m\u001b[43mcanonical_graph_config_proto\u001b[49m\u001b[43m)\u001b[49m\n\u001b[1;32m    250\u001b[0m \u001b[38;5;28mself\u001b[39m\u001b[38;5;241m.\u001b[39m_simulated_timestamp \u001b[38;5;241m=\u001b[39m \u001b[38;5;241m0\u001b[39m\n\u001b[1;32m    251\u001b[0m \u001b[38;5;28mself\u001b[39m\u001b[38;5;241m.\u001b[39m_graph_outputs \u001b[38;5;241m=\u001b[39m {}\n",
      "\u001b[0;31mRuntimeError\u001b[0m: ValidatedGraphConfig Initialization failed.\nImageToTensorCalculator: ; RET_CHECK failure (mediapipe/calculators/tensor/image_to_tensor_calculator.cc:144) ValidateOptionOutputDims(options) returned INTERNAL: ; RET_CHECK failure (./mediapipe/calculators/tensor/image_to_tensor_utils.h:136) options.has_output_tensor_float_range() || options.has_output_tensor_int_range() || options.has_output_tensor_uint_range()Output tensor range is required. \nInferenceCalculatorCpu: ; RET_CHECK failure (mediapipe/calculators/tensor/inference_calculator_cpu.cc:63) !options.model_path().empty() ^ kSideInModel(cc).IsConnected()Either model as side packet or model path in options is required.\nSplitDetectionVectorCalculator: The number of output streams should match the number of ranges specified in the CalculatorOptions.\nImageToTensorCalculator: ; RET_CHECK failure (mediapipe/calculators/tensor/image_to_tensor_calculator.cc:144) ValidateOptionOutputDims(options) returned INTERNAL: ; RET_CHECK failure (./mediapipe/calculators/tensor/image_to_tensor_utils.h:136) options.has_output_tensor_float_range() || options.has_output_tensor_int_range() || options.has_output_tensor_uint_range()Output tensor range is required. \nConstantSidePacketCalculator: ; RET_CHECK failure (mediapipe/calculators/core/constant_side_packet_calculator.cc:64) (cc->OutputSidePackets().NumEntries(kPacketTag))==(options.packet_size())Number of output side packets has to be same as number of packets configured in options.\nConstantSidePacketCalculator: ; RET_CHECK failure (mediapipe/calculators/core/constant_side_packet_calculator.cc:64) (cc->OutputSidePackets().NumEntries(kPacketTag))==(options.packet_size())Number of output side packets has to be same as number of packets configured in options.\nConstantSidePacketCalculator: ; RET_CHECK failure (mediapipe/calculators/core/constant_side_packet_calculator.cc:64) (cc->OutputSidePackets().NumEntries(kPacketTag))==(options.packet_size())Number of output side packets has to be same as number of packets configured in options.\nSplitTensorVectorCalculator: The number of output streams should match the number of ranges specified in the CalculatorOptions.\nSplitNormalizedLandmarkListCalculator: The number of output streams should match the number of ranges specified in the CalculatorOptions.\nSplitLandmarkListCalculator: The number of output streams should match the number of ranges specified in the CalculatorOptions."
     ]
    }
   ],
   "source": [
    "# Initialize MediaPipe, per farla funzionare serve protobuf==3.20.3 e \n",
    "mp_pose = mp.solutions.pose\n",
    "pose = mp_pose.Pose(\n",
    "    static_image_mode=False,\n",
    "    model_complexity=2,\n",
    "    enable_segmentation=False,\n",
    "    min_detection_confidence=0.5,\n",
    "    min_tracking_confidence=0.5\n",
    ")\n",
    "\n",
    "# Initialize computer camera\n",
    "cap = cv2.VideoCapture(0)   # 0 è per la webcam integrata, 1 per una webcam esterna\n",
    "\n",
    "if not cap.isOpened():\n",
    "    print(\"Error: Could not open camera.\")\n",
    "    exit()"
   ]
  }
 ],
 "metadata": {
  "kernelspec": {
   "display_name": "CPC",
   "language": "python",
   "name": "python3"
  },
  "language_info": {
   "codemirror_mode": {
    "name": "ipython",
    "version": 3
   },
   "file_extension": ".py",
   "mimetype": "text/x-python",
   "name": "python",
   "nbconvert_exporter": "python",
   "pygments_lexer": "ipython3",
   "version": "3.8.18"
  }
 },
 "nbformat": 4,
 "nbformat_minor": 5
}
